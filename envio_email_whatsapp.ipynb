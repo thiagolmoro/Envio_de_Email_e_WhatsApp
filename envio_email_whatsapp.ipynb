{
 "cells": [
  {
   "cell_type": "code",
   "execution_count": null,
   "metadata": {},
   "outputs": [
    {
     "name": "stdout",
     "output_type": "stream",
     "text": [
      "E-mail enviado com sucesso!\n",
      "Mensagem enviada no WhatsApp com sucesso!\n"
     ]
    }
   ],
   "source": [
    "# pip install pywhatkit\n",
    "\n",
    "import smtplib\n",
    "import time\n",
    "import pywhatkit as kit\n",
    "from email.mime.multipart import MIMEMultipart\n",
    "from email.mime.text import MIMEText\n",
    "\n",
    "def enviar_email(nome_cliente, email_cliente, link_do_cliente, data_promo_abreviada, data_promo_completa, telefone_cliente, mensagem):\n",
    "    remetente = \"SEU_EMAIL\"  # Substitua pelo seu e-mail\n",
    "    senha = \"SUA_SENHA\"  # Substitua pela sua senha\n",
    "    destinatario = email_cliente\n",
    "    destinatario_oculto = \"SEU_EMAIL_DE_COPIA_OCULTA\" # Coloque aqui o endereço de e-mail que será enviado CCO\n",
    "\n",
    "    assunto = f\"ASSUNTO DO E-MAIL\"\n",
    "\n",
    "    corpo_email = f\"\"\"\n",
    "    CORPO DO E-MAIL\n",
    "    \"\"\"\n",
    "\n",
    "    msg = MIMEMultipart()\n",
    "    msg['From'] = remetente\n",
    "    msg['To'] = destinatario\n",
    "    msg['Bcc'] = destinatario_oculto  # Cópia oculta\n",
    "    msg['Subject'] = assunto\n",
    "    msg.attach(MIMEText(corpo_email, 'html'))  # Enviar como HTML\n",
    "\n",
    "    try:\n",
    "        servidor = smtplib.SMTP('smtp.gmail.com', 587)\n",
    "        servidor.starttls()\n",
    "        servidor.login(remetente, senha)\n",
    "        servidor.sendmail(remetente, [destinatario, destinatario_oculto], msg.as_string())\n",
    "        servidor.quit()\n",
    "        print(\"E-mail enviado com sucesso!\")\n",
    "        \n",
    "        # Espera um curto tempo antes de enviar a mensagem no WhatsApp\n",
    "        time.sleep(5)\n",
    "        enviar_mensagem_whatsapp(telefone_cliente, mensagem)\n",
    "        \n",
    "    except Exception as e:\n",
    "        print(f\"Erro ao enviar o e-mail: {e}\")\n",
    "\n",
    "def enviar_mensagem_whatsapp(telefone_cliente, mensagem):\n",
    "    time.sleep(8)\n",
    "    try:\n",
    "        kit.sendwhatmsg_instantly(telefone_cliente, mensagem, 25, True, 5)\n",
    "        print(\"Mensagem enviada no WhatsApp com sucesso!\")\n",
    "    except Exception as e:\n",
    "        print(f\"Erro ao enviar mensagem no WhatsApp: {e}\")\n",
    "\n",
    "# Exemplo de uso\n",
    "nome_cliente = \"NOME\"\n",
    "email_cliente = \"EMAIL\"\n",
    "link_do_cliente = \"LINK\"\n",
    "fone_do_cliente = \"NUMERO\"\n",
    "telefone_cliente = f\"+55{fone_do_cliente}\"  # Substitua pelo número do cliente com código do país\n",
    "\n",
    "data_promo_abreviada = \"DATA ABREVIADA (EXEMPLO 14/02)\"\n",
    "data_promo_completa = \"DATA COMPLETA (EXEMPLO 14/02/2025)\"\n",
    "\n",
    "mensagem = f\"\"\"\n",
    "MENSAGEM PARA SER ENVIADA NO WHATSAPP\n",
    "\"\"\"\n",
    "\n",
    "enviar_email(nome_cliente, email_cliente, link_do_cliente, data_promo_abreviada, data_promo_completa, telefone_cliente, mensagem)\n"
   ]
  }
 ],
 "metadata": {
  "kernelspec": {
   "display_name": "Python 3",
   "language": "python",
   "name": "python3"
  },
  "language_info": {
   "codemirror_mode": {
    "name": "ipython",
    "version": 3
   },
   "file_extension": ".py",
   "mimetype": "text/x-python",
   "name": "python",
   "nbconvert_exporter": "python",
   "pygments_lexer": "ipython3",
   "version": "3.13.1"
  }
 },
 "nbformat": 4,
 "nbformat_minor": 2
}
