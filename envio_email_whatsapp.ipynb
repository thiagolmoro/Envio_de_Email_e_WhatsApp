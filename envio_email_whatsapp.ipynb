{
 "cells": [
  {
   "cell_type": "code",
   "execution_count": null,
   "metadata": {},
   "outputs": [
    {
     "name": "stdout",
     "output_type": "stream",
     "text": [
      "E-mail enviado com sucesso!\n",
      "Mensagem enviada no WhatsApp com sucesso!\n"
     ]
    }
   ],
   "source": [
    "# pip install pywhatkit pandas\n",
    "\n",
    "import smtplib\n",
    "import time\n",
    "import pywhatkit as kit\n",
    "import pandas as pd\n",
    "from email.mime.multipart import MIMEMultipart\n",
    "from email.mime.text import MIMEText\n",
    "\n",
    "def enviar_email(nome_cliente, email_cliente, link_do_cliente, data_promo_abreviada, data_promo_completa, telefone_cliente, mensagem):\n",
    "    remetente = \"SEU_EMAIL\"  # Substitua pelo seu e-mail\n",
    "    senha = \"SUA_SENHA\"  # Substitua pela sua senha\n",
    "    destinatario = email_cliente\n",
    "    destinatario_oculto = \"SEU_EMAIL_DE_COPIA_OCULTA\" # Coloque aqui o endereço de e-mail que será enviado CCO\n",
    "\n",
    "    assunto = f\"ASSUNTO DO E-MAIL\"\n",
    "\n",
    "    corpo_email = f\"\"\"\n",
    "    CORPO DO E-MAIL\n",
    "    \"\"\"\n",
    "\n",
    "    msg = MIMEMultipart()\n",
    "    msg['From'] = remetente\n",
    "    msg['To'] = destinatario\n",
    "    msg['Bcc'] = destinatario_oculto\n",
    "    msg['Subject'] = assunto\n",
    "    msg.attach(MIMEText(corpo_email, 'html'))\n",
    "\n",
    "    try:\n",
    "        servidor = smtplib.SMTP('smtp.gmail.com', 587)\n",
    "        servidor.starttls()\n",
    "        servidor.login(remetente, senha)\n",
    "        servidor.sendmail(remetente, [destinatario, destinatario_oculto], msg.as_string())\n",
    "        servidor.quit()\n",
    "        print(f\"E-mail enviado para {email_cliente}\")\n",
    "        time.sleep(5)\n",
    "        enviar_mensagem_whatsapp(telefone_cliente, mensagem)\n",
    "    except Exception as e:\n",
    "        print(f\"Erro ao enviar e-mail para {email_cliente}: {e}\")\n",
    "\n",
    "def enviar_mensagem_whatsapp(telefone_cliente, mensagem):\n",
    "    time.sleep(8)\n",
    "    try:\n",
    "        kit.sendwhatmsg_instantly(telefone_cliente, mensagem, 45, True, 5)\n",
    "        print(f\"Mensagem enviada no WhatsApp para {telefone_cliente}\")\n",
    "    except Exception as e:\n",
    "        print(f\"Erro ao enviar mensagem no WhatsApp: {e}\")\n",
    "\n",
    "def processar_csv(nome_arquivo):\n",
    "    df = pd.read_csv(nome_arquivo, sep=';')\n",
    "    total_clientes = len(df)\n",
    "    \n",
    "    for index, row in df.iterrows():\n",
    "        nome_cliente = row['NomeCliente']\n",
    "        email_cliente = row['EmailCliente']\n",
    "        link_do_cliente = row['LinkCliente']\n",
    "        telefone_cliente = f\"+55{row['FoneCliente']}\"\n",
    "        data_promo_abreviada = row['DataPromoAbreviada']\n",
    "        data_promo_completa = row['DataPromoCompleta']\n",
    "\n",
    "        mensagem = f\"\"\"\n",
    "        MENSAGEM PARA SER ENVIADA NO WHATSAPP\n",
    "        \"\"\"\n",
    "\n",
    "        enviar_email(nome_cliente, email_cliente, link_do_cliente, data_promo_abreviada, data_promo_completa, telefone_cliente, mensagem)\n",
    "        \n",
    "        # Só aguardar 15 minutos se não for o último cliente\n",
    "        if index < total_clientes - 1:\n",
    "            print(\"Aguardando 15 minutos antes do próximo envio...\")\n",
    "            time.sleep(900)  # 15 minutos\n",
    "\n",
    "# Chamada da função passando o arquivo CSV\n",
    "processar_csv(\"clientes.csv\")\n",
    "\n",
    "print('Processo concluído com Sucesso!')\n"
   ]
  }
 ],
 "metadata": {
  "kernelspec": {
   "display_name": "Python 3",
   "language": "python",
   "name": "python3"
  },
  "language_info": {
   "codemirror_mode": {
    "name": "ipython",
    "version": 3
   },
   "file_extension": ".py",
   "mimetype": "text/x-python",
   "name": "python",
   "nbconvert_exporter": "python",
   "pygments_lexer": "ipython3",
   "version": "3.13.1"
  }
 },
 "nbformat": 4,
 "nbformat_minor": 2
}
